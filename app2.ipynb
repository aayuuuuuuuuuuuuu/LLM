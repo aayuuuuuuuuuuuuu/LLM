{
 "cells": [
  {
   "cell_type": "code",
   "execution_count": 1,
   "metadata": {},
   "outputs": [
    {
     "name": "stdout",
     "output_type": "stream",
     "text": [
      "Collecting langchain-huggingface\n",
      "  Downloading langchain_huggingface-0.0.3-py3-none-any.whl.metadata (1.2 kB)\n",
      "Requirement already satisfied: huggingface-hub>=0.23.0 in e:\\mlproject\\llm\\venv\\lib\\site-packages (from langchain-huggingface) (0.24.6)\n",
      "Requirement already satisfied: langchain-core<0.3,>=0.1.52 in e:\\mlproject\\llm\\venv\\lib\\site-packages (from langchain-huggingface) (0.1.52)\n",
      "Requirement already satisfied: sentence-transformers>=2.6.0 in e:\\mlproject\\llm\\venv\\lib\\site-packages (from langchain-huggingface) (3.0.1)\n",
      "Requirement already satisfied: tokenizers>=0.19.1 in e:\\mlproject\\llm\\venv\\lib\\site-packages (from langchain-huggingface) (0.19.1)\n",
      "Requirement already satisfied: transformers>=4.39.0 in e:\\mlproject\\llm\\venv\\lib\\site-packages (from langchain-huggingface) (4.44.2)\n",
      "Requirement already satisfied: filelock in e:\\mlproject\\llm\\venv\\lib\\site-packages (from huggingface-hub>=0.23.0->langchain-huggingface) (3.16.0)\n",
      "Requirement already satisfied: fsspec>=2023.5.0 in e:\\mlproject\\llm\\venv\\lib\\site-packages (from huggingface-hub>=0.23.0->langchain-huggingface) (2024.9.0)\n",
      "Requirement already satisfied: packaging>=20.9 in e:\\mlproject\\llm\\venv\\lib\\site-packages (from huggingface-hub>=0.23.0->langchain-huggingface) (23.2)\n",
      "Requirement already satisfied: pyyaml>=5.1 in e:\\mlproject\\llm\\venv\\lib\\site-packages (from huggingface-hub>=0.23.0->langchain-huggingface) (6.0.2)\n",
      "Requirement already satisfied: requests in e:\\mlproject\\llm\\venv\\lib\\site-packages (from huggingface-hub>=0.23.0->langchain-huggingface) (2.32.3)\n",
      "Requirement already satisfied: tqdm>=4.42.1 in e:\\mlproject\\llm\\venv\\lib\\site-packages (from huggingface-hub>=0.23.0->langchain-huggingface) (4.66.5)\n",
      "Requirement already satisfied: typing-extensions>=3.7.4.3 in e:\\mlproject\\llm\\venv\\lib\\site-packages (from huggingface-hub>=0.23.0->langchain-huggingface) (4.12.2)\n",
      "Requirement already satisfied: jsonpatch<2.0,>=1.33 in e:\\mlproject\\llm\\venv\\lib\\site-packages (from langchain-core<0.3,>=0.1.52->langchain-huggingface) (1.33)\n",
      "Requirement already satisfied: langsmith<0.2.0,>=0.1.0 in e:\\mlproject\\llm\\venv\\lib\\site-packages (from langchain-core<0.3,>=0.1.52->langchain-huggingface) (0.1.116)\n",
      "Requirement already satisfied: pydantic<3,>=1 in e:\\mlproject\\llm\\venv\\lib\\site-packages (from langchain-core<0.3,>=0.1.52->langchain-huggingface) (2.9.1)\n",
      "Requirement already satisfied: tenacity<9.0.0,>=8.1.0 in e:\\mlproject\\llm\\venv\\lib\\site-packages (from langchain-core<0.3,>=0.1.52->langchain-huggingface) (8.5.0)\n",
      "Requirement already satisfied: torch>=1.11.0 in e:\\mlproject\\llm\\venv\\lib\\site-packages (from sentence-transformers>=2.6.0->langchain-huggingface) (2.4.1)\n",
      "Requirement already satisfied: numpy in e:\\mlproject\\llm\\venv\\lib\\site-packages (from sentence-transformers>=2.6.0->langchain-huggingface) (1.26.4)\n",
      "Requirement already satisfied: scikit-learn in e:\\mlproject\\llm\\venv\\lib\\site-packages (from sentence-transformers>=2.6.0->langchain-huggingface) (1.5.1)\n",
      "Requirement already satisfied: scipy in e:\\mlproject\\llm\\venv\\lib\\site-packages (from sentence-transformers>=2.6.0->langchain-huggingface) (1.14.1)\n",
      "Requirement already satisfied: Pillow in e:\\mlproject\\llm\\venv\\lib\\site-packages (from sentence-transformers>=2.6.0->langchain-huggingface) (10.4.0)\n",
      "Requirement already satisfied: regex!=2019.12.17 in e:\\mlproject\\llm\\venv\\lib\\site-packages (from transformers>=4.39.0->langchain-huggingface) (2024.7.24)\n",
      "Requirement already satisfied: safetensors>=0.4.1 in e:\\mlproject\\llm\\venv\\lib\\site-packages (from transformers>=4.39.0->langchain-huggingface) (0.4.5)\n",
      "Requirement already satisfied: jsonpointer>=1.9 in e:\\mlproject\\llm\\venv\\lib\\site-packages (from jsonpatch<2.0,>=1.33->langchain-core<0.3,>=0.1.52->langchain-huggingface) (3.0.0)\n",
      "Requirement already satisfied: httpx<1,>=0.23.0 in e:\\mlproject\\llm\\venv\\lib\\site-packages (from langsmith<0.2.0,>=0.1.0->langchain-core<0.3,>=0.1.52->langchain-huggingface) (0.27.2)\n",
      "Requirement already satisfied: orjson<4.0.0,>=3.9.14 in e:\\mlproject\\llm\\venv\\lib\\site-packages (from langsmith<0.2.0,>=0.1.0->langchain-core<0.3,>=0.1.52->langchain-huggingface) (3.10.7)\n",
      "Requirement already satisfied: annotated-types>=0.6.0 in e:\\mlproject\\llm\\venv\\lib\\site-packages (from pydantic<3,>=1->langchain-core<0.3,>=0.1.52->langchain-huggingface) (0.7.0)\n",
      "Requirement already satisfied: pydantic-core==2.23.3 in e:\\mlproject\\llm\\venv\\lib\\site-packages (from pydantic<3,>=1->langchain-core<0.3,>=0.1.52->langchain-huggingface) (2.23.3)\n",
      "Requirement already satisfied: charset-normalizer<4,>=2 in e:\\mlproject\\llm\\venv\\lib\\site-packages (from requests->huggingface-hub>=0.23.0->langchain-huggingface) (3.3.2)\n",
      "Requirement already satisfied: idna<4,>=2.5 in e:\\mlproject\\llm\\venv\\lib\\site-packages (from requests->huggingface-hub>=0.23.0->langchain-huggingface) (3.8)\n",
      "Requirement already satisfied: urllib3<3,>=1.21.1 in e:\\mlproject\\llm\\venv\\lib\\site-packages (from requests->huggingface-hub>=0.23.0->langchain-huggingface) (2.2.2)\n",
      "Requirement already satisfied: certifi>=2017.4.17 in e:\\mlproject\\llm\\venv\\lib\\site-packages (from requests->huggingface-hub>=0.23.0->langchain-huggingface) (2024.8.30)\n",
      "Requirement already satisfied: sympy in e:\\mlproject\\llm\\venv\\lib\\site-packages (from torch>=1.11.0->sentence-transformers>=2.6.0->langchain-huggingface) (1.13.2)\n",
      "Requirement already satisfied: networkx in e:\\mlproject\\llm\\venv\\lib\\site-packages (from torch>=1.11.0->sentence-transformers>=2.6.0->langchain-huggingface) (3.3)\n",
      "Requirement already satisfied: jinja2 in e:\\mlproject\\llm\\venv\\lib\\site-packages (from torch>=1.11.0->sentence-transformers>=2.6.0->langchain-huggingface) (3.1.4)\n",
      "Requirement already satisfied: setuptools in e:\\mlproject\\llm\\venv\\lib\\site-packages (from torch>=1.11.0->sentence-transformers>=2.6.0->langchain-huggingface) (72.1.0)\n",
      "Requirement already satisfied: colorama in e:\\mlproject\\llm\\venv\\lib\\site-packages (from tqdm>=4.42.1->huggingface-hub>=0.23.0->langchain-huggingface) (0.4.6)\n",
      "Requirement already satisfied: joblib>=1.2.0 in e:\\mlproject\\llm\\venv\\lib\\site-packages (from scikit-learn->sentence-transformers>=2.6.0->langchain-huggingface) (1.4.2)\n",
      "Requirement already satisfied: threadpoolctl>=3.1.0 in e:\\mlproject\\llm\\venv\\lib\\site-packages (from scikit-learn->sentence-transformers>=2.6.0->langchain-huggingface) (3.5.0)\n",
      "Requirement already satisfied: anyio in e:\\mlproject\\llm\\venv\\lib\\site-packages (from httpx<1,>=0.23.0->langsmith<0.2.0,>=0.1.0->langchain-core<0.3,>=0.1.52->langchain-huggingface) (4.4.0)\n",
      "Requirement already satisfied: httpcore==1.* in e:\\mlproject\\llm\\venv\\lib\\site-packages (from httpx<1,>=0.23.0->langsmith<0.2.0,>=0.1.0->langchain-core<0.3,>=0.1.52->langchain-huggingface) (1.0.5)\n",
      "Requirement already satisfied: sniffio in e:\\mlproject\\llm\\venv\\lib\\site-packages (from httpx<1,>=0.23.0->langsmith<0.2.0,>=0.1.0->langchain-core<0.3,>=0.1.52->langchain-huggingface) (1.3.1)\n",
      "Requirement already satisfied: h11<0.15,>=0.13 in e:\\mlproject\\llm\\venv\\lib\\site-packages (from httpcore==1.*->httpx<1,>=0.23.0->langsmith<0.2.0,>=0.1.0->langchain-core<0.3,>=0.1.52->langchain-huggingface) (0.14.0)\n",
      "Requirement already satisfied: MarkupSafe>=2.0 in e:\\mlproject\\llm\\venv\\lib\\site-packages (from jinja2->torch>=1.11.0->sentence-transformers>=2.6.0->langchain-huggingface) (2.1.5)\n",
      "Requirement already satisfied: mpmath<1.4,>=1.1.0 in e:\\mlproject\\llm\\venv\\lib\\site-packages (from sympy->torch>=1.11.0->sentence-transformers>=2.6.0->langchain-huggingface) (1.3.0)\n",
      "Downloading langchain_huggingface-0.0.3-py3-none-any.whl (17 kB)\n",
      "Installing collected packages: langchain-huggingface\n",
      "Successfully installed langchain-huggingface-0.0.3\n",
      "Requirement already satisfied: huggingface_hub in e:\\mlproject\\llm\\venv\\lib\\site-packages (0.24.6)\n",
      "Requirement already satisfied: filelock in e:\\mlproject\\llm\\venv\\lib\\site-packages (from huggingface_hub) (3.16.0)\n",
      "Requirement already satisfied: fsspec>=2023.5.0 in e:\\mlproject\\llm\\venv\\lib\\site-packages (from huggingface_hub) (2024.9.0)\n",
      "Requirement already satisfied: packaging>=20.9 in e:\\mlproject\\llm\\venv\\lib\\site-packages (from huggingface_hub) (23.2)\n",
      "Requirement already satisfied: pyyaml>=5.1 in e:\\mlproject\\llm\\venv\\lib\\site-packages (from huggingface_hub) (6.0.2)\n",
      "Requirement already satisfied: requests in e:\\mlproject\\llm\\venv\\lib\\site-packages (from huggingface_hub) (2.32.3)\n",
      "Requirement already satisfied: tqdm>=4.42.1 in e:\\mlproject\\llm\\venv\\lib\\site-packages (from huggingface_hub) (4.66.5)\n",
      "Requirement already satisfied: typing-extensions>=3.7.4.3 in e:\\mlproject\\llm\\venv\\lib\\site-packages (from huggingface_hub) (4.12.2)\n",
      "Requirement already satisfied: colorama in e:\\mlproject\\llm\\venv\\lib\\site-packages (from tqdm>=4.42.1->huggingface_hub) (0.4.6)\n",
      "Requirement already satisfied: charset-normalizer<4,>=2 in e:\\mlproject\\llm\\venv\\lib\\site-packages (from requests->huggingface_hub) (3.3.2)\n",
      "Requirement already satisfied: idna<4,>=2.5 in e:\\mlproject\\llm\\venv\\lib\\site-packages (from requests->huggingface_hub) (3.8)\n",
      "Requirement already satisfied: urllib3<3,>=1.21.1 in e:\\mlproject\\llm\\venv\\lib\\site-packages (from requests->huggingface_hub) (2.2.2)\n",
      "Requirement already satisfied: certifi>=2017.4.17 in e:\\mlproject\\llm\\venv\\lib\\site-packages (from requests->huggingface_hub) (2024.8.30)\n",
      "Requirement already satisfied: transformers in e:\\mlproject\\llm\\venv\\lib\\site-packages (4.44.2)\n",
      "Requirement already satisfied: filelock in e:\\mlproject\\llm\\venv\\lib\\site-packages (from transformers) (3.16.0)\n",
      "Requirement already satisfied: huggingface-hub<1.0,>=0.23.2 in e:\\mlproject\\llm\\venv\\lib\\site-packages (from transformers) (0.24.6)\n",
      "Requirement already satisfied: numpy>=1.17 in e:\\mlproject\\llm\\venv\\lib\\site-packages (from transformers) (1.26.4)\n",
      "Requirement already satisfied: packaging>=20.0 in e:\\mlproject\\llm\\venv\\lib\\site-packages (from transformers) (23.2)\n",
      "Requirement already satisfied: pyyaml>=5.1 in e:\\mlproject\\llm\\venv\\lib\\site-packages (from transformers) (6.0.2)\n",
      "Requirement already satisfied: regex!=2019.12.17 in e:\\mlproject\\llm\\venv\\lib\\site-packages (from transformers) (2024.7.24)\n",
      "Requirement already satisfied: requests in e:\\mlproject\\llm\\venv\\lib\\site-packages (from transformers) (2.32.3)\n",
      "Requirement already satisfied: safetensors>=0.4.1 in e:\\mlproject\\llm\\venv\\lib\\site-packages (from transformers) (0.4.5)\n",
      "Requirement already satisfied: tokenizers<0.20,>=0.19 in e:\\mlproject\\llm\\venv\\lib\\site-packages (from transformers) (0.19.1)\n",
      "Requirement already satisfied: tqdm>=4.27 in e:\\mlproject\\llm\\venv\\lib\\site-packages (from transformers) (4.66.5)\n",
      "Requirement already satisfied: fsspec>=2023.5.0 in e:\\mlproject\\llm\\venv\\lib\\site-packages (from huggingface-hub<1.0,>=0.23.2->transformers) (2024.9.0)\n",
      "Requirement already satisfied: typing-extensions>=3.7.4.3 in e:\\mlproject\\llm\\venv\\lib\\site-packages (from huggingface-hub<1.0,>=0.23.2->transformers) (4.12.2)\n",
      "Requirement already satisfied: colorama in e:\\mlproject\\llm\\venv\\lib\\site-packages (from tqdm>=4.27->transformers) (0.4.6)\n",
      "Requirement already satisfied: charset-normalizer<4,>=2 in e:\\mlproject\\llm\\venv\\lib\\site-packages (from requests->transformers) (3.3.2)\n",
      "Requirement already satisfied: idna<4,>=2.5 in e:\\mlproject\\llm\\venv\\lib\\site-packages (from requests->transformers) (3.8)\n",
      "Requirement already satisfied: urllib3<3,>=1.21.1 in e:\\mlproject\\llm\\venv\\lib\\site-packages (from requests->transformers) (2.2.2)\n",
      "Requirement already satisfied: certifi>=2017.4.17 in e:\\mlproject\\llm\\venv\\lib\\site-packages (from requests->transformers) (2024.8.30)\n",
      "Collecting accelerate\n",
      "  Downloading accelerate-0.34.2-py3-none-any.whl.metadata (19 kB)\n",
      "Requirement already satisfied: numpy<3.0.0,>=1.17 in e:\\mlproject\\llm\\venv\\lib\\site-packages (from accelerate) (1.26.4)\n",
      "Requirement already satisfied: packaging>=20.0 in e:\\mlproject\\llm\\venv\\lib\\site-packages (from accelerate) (23.2)\n",
      "Requirement already satisfied: psutil in e:\\mlproject\\llm\\venv\\lib\\site-packages (from accelerate) (5.9.0)\n",
      "Requirement already satisfied: pyyaml in e:\\mlproject\\llm\\venv\\lib\\site-packages (from accelerate) (6.0.2)\n",
      "Requirement already satisfied: torch>=1.10.0 in e:\\mlproject\\llm\\venv\\lib\\site-packages (from accelerate) (2.4.1)\n",
      "Requirement already satisfied: huggingface-hub>=0.21.0 in e:\\mlproject\\llm\\venv\\lib\\site-packages (from accelerate) (0.24.6)\n",
      "Requirement already satisfied: safetensors>=0.4.3 in e:\\mlproject\\llm\\venv\\lib\\site-packages (from accelerate) (0.4.5)\n",
      "Requirement already satisfied: filelock in e:\\mlproject\\llm\\venv\\lib\\site-packages (from huggingface-hub>=0.21.0->accelerate) (3.16.0)\n",
      "Requirement already satisfied: fsspec>=2023.5.0 in e:\\mlproject\\llm\\venv\\lib\\site-packages (from huggingface-hub>=0.21.0->accelerate) (2024.9.0)\n",
      "Requirement already satisfied: requests in e:\\mlproject\\llm\\venv\\lib\\site-packages (from huggingface-hub>=0.21.0->accelerate) (2.32.3)\n",
      "Requirement already satisfied: tqdm>=4.42.1 in e:\\mlproject\\llm\\venv\\lib\\site-packages (from huggingface-hub>=0.21.0->accelerate) (4.66.5)\n",
      "Requirement already satisfied: typing-extensions>=3.7.4.3 in e:\\mlproject\\llm\\venv\\lib\\site-packages (from huggingface-hub>=0.21.0->accelerate) (4.12.2)\n",
      "Requirement already satisfied: sympy in e:\\mlproject\\llm\\venv\\lib\\site-packages (from torch>=1.10.0->accelerate) (1.13.2)\n",
      "Requirement already satisfied: networkx in e:\\mlproject\\llm\\venv\\lib\\site-packages (from torch>=1.10.0->accelerate) (3.3)\n",
      "Requirement already satisfied: jinja2 in e:\\mlproject\\llm\\venv\\lib\\site-packages (from torch>=1.10.0->accelerate) (3.1.4)\n",
      "Requirement already satisfied: setuptools in e:\\mlproject\\llm\\venv\\lib\\site-packages (from torch>=1.10.0->accelerate) (72.1.0)\n",
      "Requirement already satisfied: colorama in e:\\mlproject\\llm\\venv\\lib\\site-packages (from tqdm>=4.42.1->huggingface-hub>=0.21.0->accelerate) (0.4.6)\n",
      "Requirement already satisfied: MarkupSafe>=2.0 in e:\\mlproject\\llm\\venv\\lib\\site-packages (from jinja2->torch>=1.10.0->accelerate) (2.1.5)\n",
      "Requirement already satisfied: charset-normalizer<4,>=2 in e:\\mlproject\\llm\\venv\\lib\\site-packages (from requests->huggingface-hub>=0.21.0->accelerate) (3.3.2)\n",
      "Requirement already satisfied: idna<4,>=2.5 in e:\\mlproject\\llm\\venv\\lib\\site-packages (from requests->huggingface-hub>=0.21.0->accelerate) (3.8)\n",
      "Requirement already satisfied: urllib3<3,>=1.21.1 in e:\\mlproject\\llm\\venv\\lib\\site-packages (from requests->huggingface-hub>=0.21.0->accelerate) (2.2.2)\n",
      "Requirement already satisfied: certifi>=2017.4.17 in e:\\mlproject\\llm\\venv\\lib\\site-packages (from requests->huggingface-hub>=0.21.0->accelerate) (2024.8.30)\n",
      "Requirement already satisfied: mpmath<1.4,>=1.1.0 in e:\\mlproject\\llm\\venv\\lib\\site-packages (from sympy->torch>=1.10.0->accelerate) (1.3.0)\n",
      "Downloading accelerate-0.34.2-py3-none-any.whl (324 kB)\n",
      "   ---------------------------------------- 0.0/324.4 kB ? eta -:--:--\n",
      "   -- ------------------------------------ 20.5/324.4 kB 330.3 kB/s eta 0:00:01\n",
      "   ---------------------------------------  317.4/324.4 kB 5.0 MB/s eta 0:00:01\n",
      "   ---------------------------------------- 324.4/324.4 kB 3.3 MB/s eta 0:00:00\n",
      "Installing collected packages: accelerate\n",
      "Successfully installed accelerate-0.34.2\n",
      "Collecting bitsandbytes\n",
      "  Downloading bitsandbytes-0.43.3-py3-none-win_amd64.whl.metadata (3.5 kB)\n",
      "Requirement already satisfied: torch in e:\\mlproject\\llm\\venv\\lib\\site-packages (from bitsandbytes) (2.4.1)\n",
      "Requirement already satisfied: numpy in e:\\mlproject\\llm\\venv\\lib\\site-packages (from bitsandbytes) (1.26.4)\n",
      "Requirement already satisfied: filelock in e:\\mlproject\\llm\\venv\\lib\\site-packages (from torch->bitsandbytes) (3.16.0)\n",
      "Requirement already satisfied: typing-extensions>=4.8.0 in e:\\mlproject\\llm\\venv\\lib\\site-packages (from torch->bitsandbytes) (4.12.2)\n",
      "Requirement already satisfied: sympy in e:\\mlproject\\llm\\venv\\lib\\site-packages (from torch->bitsandbytes) (1.13.2)\n",
      "Requirement already satisfied: networkx in e:\\mlproject\\llm\\venv\\lib\\site-packages (from torch->bitsandbytes) (3.3)\n",
      "Requirement already satisfied: jinja2 in e:\\mlproject\\llm\\venv\\lib\\site-packages (from torch->bitsandbytes) (3.1.4)\n",
      "Requirement already satisfied: fsspec in e:\\mlproject\\llm\\venv\\lib\\site-packages (from torch->bitsandbytes) (2024.9.0)\n",
      "Requirement already satisfied: setuptools in e:\\mlproject\\llm\\venv\\lib\\site-packages (from torch->bitsandbytes) (72.1.0)\n",
      "Requirement already satisfied: MarkupSafe>=2.0 in e:\\mlproject\\llm\\venv\\lib\\site-packages (from jinja2->torch->bitsandbytes) (2.1.5)\n",
      "Requirement already satisfied: mpmath<1.4,>=1.1.0 in e:\\mlproject\\llm\\venv\\lib\\site-packages (from sympy->torch->bitsandbytes) (1.3.0)\n",
      "Downloading bitsandbytes-0.43.3-py3-none-win_amd64.whl (136.5 MB)\n",
      "   ---------------------------------------- 0.0/136.5 MB ? eta -:--:--\n",
      "   ---------------------------------------- 0.0/136.5 MB ? eta -:--:--\n",
      "   ---------------------------------------- 0.0/136.5 MB ? eta -:--:--\n",
      "   ---------------------------------------- 0.1/136.5 MB 1.4 MB/s eta 0:01:35\n",
      "   ---------------------------------------- 0.4/136.5 MB 3.0 MB/s eta 0:00:46\n",
      "   ---------------------------------------- 0.8/136.5 MB 4.3 MB/s eta 0:00:32\n",
      "   ---------------------------------------- 1.3/136.5 MB 5.7 MB/s eta 0:00:24\n",
      "    --------------------------------------- 2.0/136.5 MB 7.4 MB/s eta 0:00:19\n",
      "    --------------------------------------- 2.7/136.5 MB 8.6 MB/s eta 0:00:16\n",
      "   - -------------------------------------- 3.6/136.5 MB 9.9 MB/s eta 0:00:14\n",
      "   - -------------------------------------- 4.0/136.5 MB 10.3 MB/s eta 0:00:13\n",
      "   - -------------------------------------- 4.8/136.5 MB 10.7 MB/s eta 0:00:13\n",
      "   - -------------------------------------- 5.6/136.5 MB 11.6 MB/s eta 0:00:12\n",
      "   - -------------------------------------- 6.6/136.5 MB 12.5 MB/s eta 0:00:11\n",
      "   -- ------------------------------------- 7.7/136.5 MB 13.3 MB/s eta 0:00:10\n",
      "   -- ------------------------------------- 8.4/136.5 MB 13.4 MB/s eta 0:00:10\n",
      "   -- ------------------------------------- 9.5/136.5 MB 14.1 MB/s eta 0:00:10\n",
      "   --- ------------------------------------ 10.4/136.5 MB 16.4 MB/s eta 0:00:08\n",
      "   --- ------------------------------------ 11.3/136.5 MB 18.2 MB/s eta 0:00:07\n",
      "   --- ------------------------------------ 12.3/136.5 MB 19.3 MB/s eta 0:00:07\n",
      "   --- ------------------------------------ 13.4/136.5 MB 19.9 MB/s eta 0:00:07\n",
      "   ---- ----------------------------------- 14.6/136.5 MB 20.5 MB/s eta 0:00:06\n",
      "   ---- ----------------------------------- 15.7/136.5 MB 21.1 MB/s eta 0:00:06\n",
      "   ---- ----------------------------------- 16.8/136.5 MB 21.1 MB/s eta 0:00:06\n",
      "   ----- ---------------------------------- 18.0/136.5 MB 21.9 MB/s eta 0:00:06\n",
      "   ----- ---------------------------------- 19.0/136.5 MB 21.8 MB/s eta 0:00:06\n",
      "   ----- ---------------------------------- 20.0/136.5 MB 21.8 MB/s eta 0:00:06\n",
      "   ------ --------------------------------- 21.3/136.5 MB 22.6 MB/s eta 0:00:06\n",
      "   ------ --------------------------------- 22.4/136.5 MB 23.4 MB/s eta 0:00:05\n",
      "   ------ --------------------------------- 23.7/136.5 MB 24.2 MB/s eta 0:00:05\n",
      "   ------- -------------------------------- 25.2/136.5 MB 24.2 MB/s eta 0:00:05\n",
      "   ------- -------------------------------- 26.3/136.5 MB 24.2 MB/s eta 0:00:05\n",
      "   -------- ------------------------------- 27.3/136.5 MB 24.2 MB/s eta 0:00:05\n",
      "   -------- ------------------------------- 28.5/136.5 MB 24.2 MB/s eta 0:00:05\n",
      "   -------- ------------------------------- 29.9/136.5 MB 24.2 MB/s eta 0:00:05\n",
      "   --------- ------------------------------ 30.9/136.5 MB 24.2 MB/s eta 0:00:05\n",
      "   --------- ------------------------------ 31.7/136.5 MB 24.3 MB/s eta 0:00:05\n",
      "   --------- ------------------------------ 32.9/136.5 MB 23.4 MB/s eta 0:00:05\n",
      "   --------- ------------------------------ 33.7/136.5 MB 22.6 MB/s eta 0:00:05\n",
      "   ---------- ----------------------------- 34.8/136.5 MB 22.6 MB/s eta 0:00:05\n",
      "   ---------- ----------------------------- 36.0/136.5 MB 21.8 MB/s eta 0:00:05\n",
      "   ---------- ----------------------------- 37.3/136.5 MB 22.6 MB/s eta 0:00:05\n",
      "   ----------- ---------------------------- 38.1/136.5 MB 22.6 MB/s eta 0:00:05\n",
      "   ----------- ---------------------------- 39.3/136.5 MB 22.6 MB/s eta 0:00:05\n",
      "   ----------- ---------------------------- 40.4/136.5 MB 22.6 MB/s eta 0:00:05\n",
      "   ------------ --------------------------- 41.9/136.5 MB 23.4 MB/s eta 0:00:05\n",
      "   ------------ --------------------------- 42.7/136.5 MB 23.4 MB/s eta 0:00:05\n",
      "   ------------ --------------------------- 43.8/136.5 MB 23.4 MB/s eta 0:00:04\n",
      "   ------------- -------------------------- 44.7/136.5 MB 24.2 MB/s eta 0:00:04\n",
      "   ------------- -------------------------- 45.9/136.5 MB 23.4 MB/s eta 0:00:04\n",
      "   ------------- -------------------------- 46.9/136.5 MB 24.2 MB/s eta 0:00:04\n",
      "   -------------- ------------------------- 47.8/136.5 MB 23.4 MB/s eta 0:00:04\n",
      "   -------------- ------------------------- 48.9/136.5 MB 22.6 MB/s eta 0:00:04\n",
      "   -------------- ------------------------- 49.8/136.5 MB 23.4 MB/s eta 0:00:04\n",
      "   -------------- ------------------------- 51.0/136.5 MB 21.9 MB/s eta 0:00:04\n",
      "   --------------- ------------------------ 51.6/136.5 MB 20.5 MB/s eta 0:00:05\n",
      "   --------------- ------------------------ 52.7/136.5 MB 20.5 MB/s eta 0:00:05\n",
      "   --------------- ------------------------ 53.9/136.5 MB 19.8 MB/s eta 0:00:05\n",
      "   ---------------- ----------------------- 54.7/136.5 MB 19.2 MB/s eta 0:00:05\n",
      "   ---------------- ----------------------- 55.4/136.5 MB 19.3 MB/s eta 0:00:05\n",
      "   ---------------- ----------------------- 56.5/136.5 MB 19.3 MB/s eta 0:00:05\n",
      "   ---------------- ----------------------- 57.5/136.5 MB 18.7 MB/s eta 0:00:05\n",
      "   ----------------- ---------------------- 58.4/136.5 MB 18.7 MB/s eta 0:00:05\n",
      "   ----------------- ---------------------- 59.5/136.5 MB 19.3 MB/s eta 0:00:04\n",
      "   ----------------- ---------------------- 60.8/136.5 MB 19.8 MB/s eta 0:00:04\n",
      "   ------------------ --------------------- 61.9/136.5 MB 21.1 MB/s eta 0:00:04\n",
      "   ------------------ --------------------- 62.9/136.5 MB 20.5 MB/s eta 0:00:04\n",
      "   ------------------ --------------------- 63.9/136.5 MB 20.5 MB/s eta 0:00:04\n",
      "   ------------------- -------------------- 64.9/136.5 MB 21.1 MB/s eta 0:00:04\n",
      "   ------------------- -------------------- 66.0/136.5 MB 21.8 MB/s eta 0:00:04\n",
      "   ------------------- -------------------- 67.0/136.5 MB 21.8 MB/s eta 0:00:04\n",
      "   ------------------- -------------------- 67.9/136.5 MB 21.8 MB/s eta 0:00:04\n",
      "   -------------------- ------------------- 68.9/136.5 MB 21.9 MB/s eta 0:00:04\n",
      "   -------------------- ------------------- 70.1/136.5 MB 21.9 MB/s eta 0:00:04\n",
      "   -------------------- ------------------- 71.2/136.5 MB 21.8 MB/s eta 0:00:03\n",
      "   --------------------- ------------------ 72.3/136.5 MB 21.8 MB/s eta 0:00:03\n",
      "   --------------------- ------------------ 73.1/136.5 MB 21.8 MB/s eta 0:00:03\n",
      "   --------------------- ------------------ 74.0/136.5 MB 21.1 MB/s eta 0:00:03\n",
      "   ---------------------- ----------------- 75.2/136.5 MB 21.1 MB/s eta 0:00:03\n",
      "   ---------------------- ----------------- 75.7/136.5 MB 20.5 MB/s eta 0:00:03\n",
      "   ---------------------- ----------------- 76.6/136.5 MB 19.8 MB/s eta 0:00:04\n",
      "   ---------------------- ----------------- 77.2/136.5 MB 19.9 MB/s eta 0:00:03\n",
      "   ---------------------- ----------------- 78.0/136.5 MB 19.9 MB/s eta 0:00:03\n",
      "   ----------------------- ---------------- 79.2/136.5 MB 19.8 MB/s eta 0:00:03\n",
      "   ----------------------- ---------------- 80.0/136.5 MB 19.9 MB/s eta 0:00:03\n",
      "   ----------------------- ---------------- 81.1/136.5 MB 19.3 MB/s eta 0:00:03\n",
      "   ------------------------ --------------- 82.2/136.5 MB 19.2 MB/s eta 0:00:03\n",
      "   ------------------------ --------------- 83.4/136.5 MB 20.5 MB/s eta 0:00:03\n",
      "   ------------------------ --------------- 84.2/136.5 MB 20.5 MB/s eta 0:00:03\n",
      "   ------------------------- -------------- 85.4/136.5 MB 20.5 MB/s eta 0:00:03\n",
      "   ------------------------- -------------- 86.6/136.5 MB 21.8 MB/s eta 0:00:03\n",
      "   ------------------------- -------------- 87.6/136.5 MB 21.8 MB/s eta 0:00:03\n",
      "   ------------------------- -------------- 88.7/136.5 MB 21.8 MB/s eta 0:00:03\n",
      "   -------------------------- ------------- 90.0/136.5 MB 22.6 MB/s eta 0:00:03\n",
      "   -------------------------- ------------- 90.8/136.5 MB 22.6 MB/s eta 0:00:03\n",
      "   -------------------------- ------------- 91.5/136.5 MB 22.5 MB/s eta 0:00:02\n",
      "   --------------------------- ------------ 92.3/136.5 MB 21.9 MB/s eta 0:00:03\n",
      "   --------------------------- ------------ 93.5/136.5 MB 21.1 MB/s eta 0:00:03\n",
      "   --------------------------- ------------ 94.6/136.5 MB 21.8 MB/s eta 0:00:02\n",
      "   ---------------------------- ----------- 95.8/136.5 MB 21.8 MB/s eta 0:00:02\n",
      "   ---------------------------- ----------- 96.7/136.5 MB 21.8 MB/s eta 0:00:02\n",
      "   ---------------------------- ----------- 97.6/136.5 MB 21.1 MB/s eta 0:00:02\n",
      "   ---------------------------- ----------- 98.6/136.5 MB 22.6 MB/s eta 0:00:02\n",
      "   ---------------------------- ----------- 98.6/136.5 MB 22.6 MB/s eta 0:00:02\n",
      "   ---------------------------- ----------- 98.6/136.5 MB 22.6 MB/s eta 0:00:02\n",
      "   ---------------------------- ----------- 98.6/136.5 MB 22.6 MB/s eta 0:00:02\n",
      "   ---------------------------- ---------- 100.4/136.5 MB 17.2 MB/s eta 0:00:03\n",
      "   ----------------------------- --------- 103.1/136.5 MB 20.5 MB/s eta 0:00:02\n",
      "   ----------------------------- --------- 103.1/136.5 MB 20.5 MB/s eta 0:00:02\n",
      "   ----------------------------- --------- 103.1/136.5 MB 20.5 MB/s eta 0:00:02\n",
      "   ------------------------------ -------- 105.8/136.5 MB 19.3 MB/s eta 0:00:02\n",
      "   ------------------------------ -------- 108.0/136.5 MB 21.8 MB/s eta 0:00:02\n",
      "   ------------------------------- ------- 108.8/136.5 MB 21.1 MB/s eta 0:00:02\n",
      "   ------------------------------- ------- 109.9/136.5 MB 31.2 MB/s eta 0:00:01\n",
      "   ------------------------------- ------- 111.0/136.5 MB 28.4 MB/s eta 0:00:01\n",
      "   ------------------------------- ------- 111.8/136.5 MB 26.2 MB/s eta 0:00:01\n",
      "   ------------------------------- ------- 111.8/136.5 MB 26.2 MB/s eta 0:00:01\n",
      "   -------------------------------- ------ 113.0/136.5 MB 21.8 MB/s eta 0:00:02\n",
      "   -------------------------------- ------ 114.0/136.5 MB 27.3 MB/s eta 0:00:01\n",
      "   -------------------------------- ------ 115.1/136.5 MB 24.2 MB/s eta 0:00:01\n",
      "   --------------------------------- ----- 115.9/136.5 MB 23.4 MB/s eta 0:00:01\n",
      "   --------------------------------- ----- 116.9/136.5 MB 20.5 MB/s eta 0:00:01\n",
      "   --------------------------------- ----- 118.2/136.5 MB 19.9 MB/s eta 0:00:01\n",
      "   ---------------------------------- ---- 119.4/136.5 MB 20.5 MB/s eta 0:00:01\n",
      "   ---------------------------------- ---- 120.6/136.5 MB 21.1 MB/s eta 0:00:01\n",
      "   ---------------------------------- ---- 121.4/136.5 MB 21.1 MB/s eta 0:00:01\n",
      "   ---------------------------------- ---- 121.8/136.5 MB 19.8 MB/s eta 0:00:01\n",
      "   ----------------------------------- --- 123.1/136.5 MB 21.1 MB/s eta 0:00:01\n",
      "   ----------------------------------- --- 124.4/136.5 MB 23.4 MB/s eta 0:00:01\n",
      "   ----------------------------------- --- 125.3/136.5 MB 22.6 MB/s eta 0:00:01\n",
      "   ------------------------------------ -- 126.3/136.5 MB 21.8 MB/s eta 0:00:01\n",
      "   ------------------------------------ -- 127.5/136.5 MB 22.6 MB/s eta 0:00:01\n",
      "   ------------------------------------ -- 128.0/136.5 MB 21.1 MB/s eta 0:00:01\n",
      "   ------------------------------------ -- 129.1/136.5 MB 22.6 MB/s eta 0:00:01\n",
      "   ------------------------------------- - 130.4/136.5 MB 22.6 MB/s eta 0:00:01\n",
      "   ------------------------------------- - 131.7/136.5 MB 21.8 MB/s eta 0:00:01\n",
      "   --------------------------------------  133.1/136.5 MB 23.4 MB/s eta 0:00:01\n",
      "   --------------------------------------  134.6/136.5 MB 25.1 MB/s eta 0:00:01\n",
      "   --------------------------------------  136.1/136.5 MB 25.2 MB/s eta 0:00:01\n",
      "   --------------------------------------  136.5/136.5 MB 24.3 MB/s eta 0:00:01\n",
      "   --------------------------------------  136.5/136.5 MB 24.3 MB/s eta 0:00:01\n",
      "   --------------------------------------  136.5/136.5 MB 24.3 MB/s eta 0:00:01\n",
      "   --------------------------------------  136.5/136.5 MB 24.3 MB/s eta 0:00:01\n",
      "   --------------------------------------  136.5/136.5 MB 24.3 MB/s eta 0:00:01\n",
      "   --------------------------------------  136.5/136.5 MB 24.3 MB/s eta 0:00:01\n",
      "   --------------------------------------  136.5/136.5 MB 24.3 MB/s eta 0:00:01\n",
      "   --------------------------------------  136.5/136.5 MB 24.3 MB/s eta 0:00:01\n",
      "   --------------------------------------  136.5/136.5 MB 24.3 MB/s eta 0:00:01\n",
      "   --------------------------------------  136.5/136.5 MB 24.3 MB/s eta 0:00:01\n",
      "   --------------------------------------  136.5/136.5 MB 24.3 MB/s eta 0:00:01\n",
      "   --------------------------------------  136.5/136.5 MB 24.3 MB/s eta 0:00:01\n",
      "   --------------------------------------  136.5/136.5 MB 24.3 MB/s eta 0:00:01\n",
      "   --------------------------------------  136.5/136.5 MB 24.3 MB/s eta 0:00:01\n",
      "   --------------------------------------  136.5/136.5 MB 24.3 MB/s eta 0:00:01\n",
      "   --------------------------------------  136.5/136.5 MB 24.3 MB/s eta 0:00:01\n",
      "   --------------------------------------  136.5/136.5 MB 24.3 MB/s eta 0:00:01\n",
      "   --------------------------------------  136.5/136.5 MB 24.3 MB/s eta 0:00:01\n",
      "   --------------------------------------  136.5/136.5 MB 24.3 MB/s eta 0:00:01\n",
      "   --------------------------------------  136.5/136.5 MB 24.3 MB/s eta 0:00:01\n",
      "   --------------------------------------  136.5/136.5 MB 24.3 MB/s eta 0:00:01\n",
      "   --------------------------------------  136.5/136.5 MB 24.3 MB/s eta 0:00:01\n",
      "   ---------------------------------------- 136.5/136.5 MB 6.9 MB/s eta 0:00:00\n",
      "Installing collected packages: bitsandbytes\n",
      "Successfully installed bitsandbytes-0.43.3\n",
      "Requirement already satisfied: langchain in e:\\mlproject\\llm\\venv\\lib\\site-packages (0.1.20)\n",
      "Requirement already satisfied: PyYAML>=5.3 in e:\\mlproject\\llm\\venv\\lib\\site-packages (from langchain) (6.0.2)\n",
      "Requirement already satisfied: SQLAlchemy<3,>=1.4 in e:\\mlproject\\llm\\venv\\lib\\site-packages (from langchain) (2.0.34)\n",
      "Requirement already satisfied: aiohttp<4.0.0,>=3.8.3 in e:\\mlproject\\llm\\venv\\lib\\site-packages (from langchain) (3.10.5)\n",
      "Requirement already satisfied: dataclasses-json<0.7,>=0.5.7 in e:\\mlproject\\llm\\venv\\lib\\site-packages (from langchain) (0.6.7)\n",
      "Requirement already satisfied: langchain-community<0.1,>=0.0.38 in e:\\mlproject\\llm\\venv\\lib\\site-packages (from langchain) (0.0.38)\n",
      "Requirement already satisfied: langchain-core<0.2.0,>=0.1.52 in e:\\mlproject\\llm\\venv\\lib\\site-packages (from langchain) (0.1.52)\n",
      "Requirement already satisfied: langchain-text-splitters<0.1,>=0.0.1 in e:\\mlproject\\llm\\venv\\lib\\site-packages (from langchain) (0.0.2)\n",
      "Requirement already satisfied: langsmith<0.2.0,>=0.1.17 in e:\\mlproject\\llm\\venv\\lib\\site-packages (from langchain) (0.1.116)\n",
      "Requirement already satisfied: numpy<2,>=1 in e:\\mlproject\\llm\\venv\\lib\\site-packages (from langchain) (1.26.4)\n",
      "Requirement already satisfied: pydantic<3,>=1 in e:\\mlproject\\llm\\venv\\lib\\site-packages (from langchain) (2.9.1)\n",
      "Requirement already satisfied: requests<3,>=2 in e:\\mlproject\\llm\\venv\\lib\\site-packages (from langchain) (2.32.3)\n",
      "Requirement already satisfied: tenacity<9.0.0,>=8.1.0 in e:\\mlproject\\llm\\venv\\lib\\site-packages (from langchain) (8.5.0)\n",
      "Requirement already satisfied: aiohappyeyeballs>=2.3.0 in e:\\mlproject\\llm\\venv\\lib\\site-packages (from aiohttp<4.0.0,>=3.8.3->langchain) (2.4.0)\n",
      "Requirement already satisfied: aiosignal>=1.1.2 in e:\\mlproject\\llm\\venv\\lib\\site-packages (from aiohttp<4.0.0,>=3.8.3->langchain) (1.3.1)\n",
      "Requirement already satisfied: attrs>=17.3.0 in e:\\mlproject\\llm\\venv\\lib\\site-packages (from aiohttp<4.0.0,>=3.8.3->langchain) (24.2.0)\n",
      "Requirement already satisfied: frozenlist>=1.1.1 in e:\\mlproject\\llm\\venv\\lib\\site-packages (from aiohttp<4.0.0,>=3.8.3->langchain) (1.4.1)\n",
      "Requirement already satisfied: multidict<7.0,>=4.5 in e:\\mlproject\\llm\\venv\\lib\\site-packages (from aiohttp<4.0.0,>=3.8.3->langchain) (6.0.5)\n",
      "Requirement already satisfied: yarl<2.0,>=1.0 in e:\\mlproject\\llm\\venv\\lib\\site-packages (from aiohttp<4.0.0,>=3.8.3->langchain) (1.11.0)\n",
      "Requirement already satisfied: marshmallow<4.0.0,>=3.18.0 in e:\\mlproject\\llm\\venv\\lib\\site-packages (from dataclasses-json<0.7,>=0.5.7->langchain) (3.22.0)\n",
      "Requirement already satisfied: typing-inspect<1,>=0.4.0 in e:\\mlproject\\llm\\venv\\lib\\site-packages (from dataclasses-json<0.7,>=0.5.7->langchain) (0.9.0)\n",
      "Requirement already satisfied: jsonpatch<2.0,>=1.33 in e:\\mlproject\\llm\\venv\\lib\\site-packages (from langchain-core<0.2.0,>=0.1.52->langchain) (1.33)\n",
      "Requirement already satisfied: packaging<24.0,>=23.2 in e:\\mlproject\\llm\\venv\\lib\\site-packages (from langchain-core<0.2.0,>=0.1.52->langchain) (23.2)\n",
      "Requirement already satisfied: httpx<1,>=0.23.0 in e:\\mlproject\\llm\\venv\\lib\\site-packages (from langsmith<0.2.0,>=0.1.17->langchain) (0.27.2)\n",
      "Requirement already satisfied: orjson<4.0.0,>=3.9.14 in e:\\mlproject\\llm\\venv\\lib\\site-packages (from langsmith<0.2.0,>=0.1.17->langchain) (3.10.7)\n",
      "Requirement already satisfied: annotated-types>=0.6.0 in e:\\mlproject\\llm\\venv\\lib\\site-packages (from pydantic<3,>=1->langchain) (0.7.0)\n",
      "Requirement already satisfied: pydantic-core==2.23.3 in e:\\mlproject\\llm\\venv\\lib\\site-packages (from pydantic<3,>=1->langchain) (2.23.3)\n",
      "Requirement already satisfied: typing-extensions>=4.6.1 in e:\\mlproject\\llm\\venv\\lib\\site-packages (from pydantic<3,>=1->langchain) (4.12.2)\n",
      "Requirement already satisfied: charset-normalizer<4,>=2 in e:\\mlproject\\llm\\venv\\lib\\site-packages (from requests<3,>=2->langchain) (3.3.2)\n",
      "Requirement already satisfied: idna<4,>=2.5 in e:\\mlproject\\llm\\venv\\lib\\site-packages (from requests<3,>=2->langchain) (3.8)\n",
      "Requirement already satisfied: urllib3<3,>=1.21.1 in e:\\mlproject\\llm\\venv\\lib\\site-packages (from requests<3,>=2->langchain) (2.2.2)\n",
      "Requirement already satisfied: certifi>=2017.4.17 in e:\\mlproject\\llm\\venv\\lib\\site-packages (from requests<3,>=2->langchain) (2024.8.30)\n",
      "Requirement already satisfied: greenlet!=0.4.17 in e:\\mlproject\\llm\\venv\\lib\\site-packages (from SQLAlchemy<3,>=1.4->langchain) (3.0.3)\n",
      "Requirement already satisfied: anyio in e:\\mlproject\\llm\\venv\\lib\\site-packages (from httpx<1,>=0.23.0->langsmith<0.2.0,>=0.1.17->langchain) (4.4.0)\n",
      "Requirement already satisfied: httpcore==1.* in e:\\mlproject\\llm\\venv\\lib\\site-packages (from httpx<1,>=0.23.0->langsmith<0.2.0,>=0.1.17->langchain) (1.0.5)\n",
      "Requirement already satisfied: sniffio in e:\\mlproject\\llm\\venv\\lib\\site-packages (from httpx<1,>=0.23.0->langsmith<0.2.0,>=0.1.17->langchain) (1.3.1)\n",
      "Requirement already satisfied: h11<0.15,>=0.13 in e:\\mlproject\\llm\\venv\\lib\\site-packages (from httpcore==1.*->httpx<1,>=0.23.0->langsmith<0.2.0,>=0.1.17->langchain) (0.14.0)\n",
      "Requirement already satisfied: jsonpointer>=1.9 in e:\\mlproject\\llm\\venv\\lib\\site-packages (from jsonpatch<2.0,>=1.33->langchain-core<0.2.0,>=0.1.52->langchain) (3.0.0)\n",
      "Requirement already satisfied: mypy-extensions>=0.3.0 in e:\\mlproject\\llm\\venv\\lib\\site-packages (from typing-inspect<1,>=0.4.0->dataclasses-json<0.7,>=0.5.7->langchain) (1.0.0)\n"
     ]
    }
   ],
   "source": [
    "## Libraries Required\n",
    "!pip install langchain-huggingface\n",
    "## For API Calls\n",
    "!pip install huggingface_hub\n",
    "!pip install transformers\n",
    "!pip install accelerate\n",
    "!pip install  bitsandbytes\n",
    "!pip install langchain"
   ]
  },
  {
   "cell_type": "code",
   "execution_count": 2,
   "metadata": {},
   "outputs": [],
   "source": [
    "from langchain_huggingface import HuggingFaceEndpoint"
   ]
  },
  {
   "cell_type": "code",
   "execution_count": 4,
   "metadata": {},
   "outputs": [],
   "source": [
    "import os\n",
    "HUGGINGFACEHUB_API_TOKEN=os.environ.get('HUGGINGFACEHUB_API_TOKEN')"
   ]
  },
  {
   "cell_type": "code",
<<<<<<< HEAD
   "execution_count": 20,
=======
   "execution_count": 6,
>>>>>>> 2c13fb1 (huggingfaceAndGroqAIQ&A)
   "metadata": {},
   "outputs": [
    {
     "name": "stderr",
     "output_type": "stream",
     "text": [
      "WARNING! max_length is not default parameter.\n",
      "                    max_length was transferred to model_kwargs.\n",
      "                    Please make sure that max_length is what you intended.\n",
      "WARNING! token is not default parameter.\n",
      "                    token was transferred to model_kwargs.\n",
<<<<<<< HEAD
      "                    Please make sure that token is what you intended.\n"
=======
      "                    Please make sure that token is what you intended.\n",
      "e:\\MLProject\\LLM\\venv\\Lib\\site-packages\\tqdm\\auto.py:21: TqdmWarning: IProgress not found. Please update jupyter and ipywidgets. See https://ipywidgets.readthedocs.io/en/stable/user_install.html\n",
      "  from .autonotebook import tqdm as notebook_tqdm\n"
>>>>>>> 2c13fb1 (huggingfaceAndGroqAIQ&A)
     ]
    }
   ],
   "source": [
    "repo_id=\"mistralai/Mistral-7B-Instruct-v0.2\"\n",
    "llm=HuggingFaceEndpoint(repo_id=repo_id,max_length=128,temperature=0.7,token=HUGGINGFACEHUB_API_TOKEN)"
   ]
  },
  {
   "cell_type": "code",
   "execution_count": 7,
   "metadata": {},
   "outputs": [
    {
     "data": {
      "text/plain": [
       "' and how is it used in data analytics? Machine learning is a subset of artificial intelligence (AI) that provides systems the ability to learn and improve from experience without explicit programming. In data analytics, machine learning algorithms are used to identify patterns and make predictions based on data. Machine learning is used in a variety of applications, including fraud detection, customer segmentation, predictive maintenance, and recommendation systems. It is particularly useful when dealing with large and complex data sets that cannot be easily analyzed using traditional statistical methods. Machine learning algorithms can be divided into three main categories: supervised learning, unsupervised learning, and reinforcement learning. In supervised learning, the algorithm is trained on labeled data, meaning data that has already been categorized or classified. The algorithm learns to identify patterns in the data and make predictions based on that training. In unsupervised learning, the algorithm is used to find patterns and relationships in data without any prior knowledge of the labels. This is often used for data exploration and clustering. Reinforcement learning is a type of machine learning where the algorithm learns to make decisions based on rewards or punishments. It is often used in gaming and robotics applications. Machine learning is a powerful tool for data analytics, and its use is only continuing to grow as data becomes more prevalent and complex.'"
      ]
     },
     "execution_count": 7,
     "metadata": {},
     "output_type": "execute_result"
    }
   ],
   "source": [
    "llm.invoke(\"What is machine learning\")"
   ]
  },
  {
   "cell_type": "code",
   "execution_count": 8,
   "metadata": {},
   "outputs": [
    {
     "name": "stdout",
     "output_type": "stream",
     "text": [
      "input_variables=['question'] template=\"Question: {question}\\nAnswer: Let's think step by step.\"\n"
     ]
    }
   ],
   "source": [
    "from langchain import PromptTemplate, LLMChain\n",
    "\n",
    "question=\"Who won the Cricket World Cup in the year 2011?\"\n",
    "template = \"\"\"Question: {question}\n",
    "Answer: Let's think step by step.\"\"\"\n",
    "prompt = PromptTemplate(template=template, input_variables=[\"question\"])\n",
    "print(prompt)"
   ]
  },
  {
   "cell_type": "code",
   "execution_count": 9,
   "metadata": {},
   "outputs": [
    {
     "name": "stderr",
     "output_type": "stream",
     "text": [
      "e:\\MLProject\\LLM\\venv\\Lib\\site-packages\\langchain_core\\_api\\deprecation.py:119: LangChainDeprecationWarning: The class `LLMChain` was deprecated in LangChain 0.1.17 and will be removed in 0.3.0. Use RunnableSequence, e.g., `prompt | llm` instead.\n",
      "  warn_deprecated(\n"
     ]
    },
    {
     "name": "stdout",
     "output_type": "stream",
     "text": [
      "{'question': 'Who won the Cricket World Cup in the year 2011?', 'text': \" The Cricket World Cup is a prestigious tournament held every four years for cricket teams. The year 2011 falls within this cycle. But to answer the question definitively, I'd need to know which team won the Cricket World Cup in the year 2011. The answer is India. They defeated Sri Lanka in the final match held on April 2, 2011 at Wankhede Stadium in Mumbai, India. So, India won the Cricket World Cup in the year 2011.\"}\n"
     ]
    }
   ],
   "source": [
    "llm_chain=LLMChain(llm=llm,prompt=prompt)\n",
    "print(llm_chain.invoke(question))"
   ]
  },
  {
   "cell_type": "code",
   "execution_count": 10,
   "metadata": {},
   "outputs": [],
   "source": [
    "from langchain_huggingface import HuggingFacePipeline\n",
    "from transformers import AutoModelForCausalLM, AutoTokenizer, pipeline"
   ]
  },
  {
   "cell_type": "code",
   "execution_count": 11,
   "metadata": {},
   "outputs": [
    {
     "name": "stderr",
     "output_type": "stream",
     "text": [
      "e:\\MLProject\\LLM\\venv\\Lib\\site-packages\\huggingface_hub\\file_download.py:159: UserWarning: `huggingface_hub` cache-system uses symlinks by default to efficiently store duplicated files but your machine does not support them in C:\\Users\\dell\\.cache\\huggingface\\hub\\models--gpt2. Caching files will still work but in a degraded version that might require more space on your disk. This warning can be disabled by setting the `HF_HUB_DISABLE_SYMLINKS_WARNING` environment variable. For more details, see https://huggingface.co/docs/huggingface_hub/how-to-cache#limitations.\n",
      "To support symlinks on Windows, you either need to activate Developer Mode or to run Python as an administrator. In order to see activate developer mode, see this article: https://docs.microsoft.com/en-us/windows/apps/get-started/enable-your-device-for-development\n",
      "  warnings.warn(message)\n",
      "e:\\MLProject\\LLM\\venv\\Lib\\site-packages\\transformers\\tokenization_utils_base.py:1601: FutureWarning: `clean_up_tokenization_spaces` was not set. It will be set to `True` by default. This behavior will be depracted in transformers v4.45, and will be then set to `False` by default. For more details check this issue: https://github.com/huggingface/transformers/issues/31884\n",
      "  warnings.warn(\n"
     ]
    }
   ],
   "source": [
    "model_id=\"gpt2\"\n",
    "model=AutoModelForCausalLM.from_pretrained(model_id)\n",
    "tokenizer=AutoTokenizer.from_pretrained(model_id)"
   ]
  },
  {
   "cell_type": "code",
   "execution_count": 12,
   "metadata": {},
   "outputs": [],
   "source": [
    "pipe=pipeline(\"text-generation\",model=model,tokenizer=tokenizer,max_new_tokens=100)\n",
    "hf=HuggingFacePipeline(pipeline=pipe)"
   ]
  },
  {
   "cell_type": "code",
   "execution_count": 13,
   "metadata": {},
   "outputs": [
    {
     "data": {
      "text/plain": [
       "HuggingFacePipeline(pipeline=<transformers.pipelines.text_generation.TextGenerationPipeline object at 0x0000018B3ED5F020>)"
      ]
     },
     "execution_count": 13,
     "metadata": {},
     "output_type": "execute_result"
    }
   ],
   "source": [
    "hf\n"
   ]
  },
  {
   "cell_type": "code",
   "execution_count": 14,
   "metadata": {},
   "outputs": [
    {
     "name": "stderr",
     "output_type": "stream",
     "text": [
      "Setting `pad_token_id` to `eos_token_id`:50256 for open-end generation.\n"
     ]
    },
    {
     "data": {
      "text/plain": [
       "'What is machine learning, if you will? If the answer is \"no,\" then so is AI. As with any science, there is a fair bit of bias within academia on which to base research. Many are skeptical of machine learning—many of the papers cited in our review of these papers were written in the 1980s, with large datasets of the past few thousand or so years of data. In short, the evidence is pretty mixed on which data should be used: \"Machine learning, as an AI toolkit'"
      ]
     },
     "execution_count": 14,
     "metadata": {},
     "output_type": "execute_result"
    }
   ],
   "source": [
    "hf.invoke(\"What is machine learning\")\n"
   ]
  },
  {
   "cell_type": "code",
   "execution_count": 16,
   "metadata": {},
   "outputs": [],
   "source": [
    "## Use HuggingfacePipelines With Gpu\n",
    "gpu_llm = HuggingFacePipeline.from_model_id(\n",
    "    model_id=\"gpt2\",\n",
    "    task=\"text-generation\",\n",
    "    device_map=\"auto\" ,  # replace with device_map=\"auto\" to use the accelerate library.\n",
    "    pipeline_kwargs={\"max_new_tokens\": 100},\n",
    ")"
   ]
  },
  {
   "cell_type": "code",
   "execution_count": 17,
   "metadata": {},
   "outputs": [],
   "source": [
    "from langchain_core.prompts import PromptTemplate\n",
    "\n",
    "template = \"\"\"Question: {question}\n",
    "\n",
    "Answer: Let's think step by step.\"\"\"\n",
    "prompt = PromptTemplate.from_template(template)"
   ]
  },
  {
   "cell_type": "code",
   "execution_count": 18,
   "metadata": {},
   "outputs": [],
   "source": [
    "chain=prompt|gpu_llm\n"
   ]
  },
  {
   "cell_type": "code",
   "execution_count": 19,
   "metadata": {},
   "outputs": [
    {
     "data": {
      "text/plain": [
       "\"Question: What is artificial intelligence?\\n\\nAnswer: Let's think step by step.\\n\\nLet's take a look: Are artificial intelligence agents being programmed to create a world based on reality?\\n\\nThe answer is no.\\n\\nNo artificial intelligence agents created a world, or that is an artificial intelligence agent, being programmed a world is a false claim;\\n\\nWe've had a long time since the world has existed in such a way that nobody has ever seen one;\\n\\nNo artificial intelligence agency exists that exists in the first place;\\n\\nNo artificial intelligence agent\""
      ]
     },
     "execution_count": 19,
     "metadata": {},
     "output_type": "execute_result"
    }
   ],
   "source": [
    "question=\"What is artificial intelligence?\"\n",
    "chain.invoke({\"question\":question})"
   ]
  }
 ],
 "metadata": {
  "kernelspec": {
   "display_name": "Python 3",
   "language": "python",
   "name": "python3"
  },
  "language_info": {
   "codemirror_mode": {
    "name": "ipython",
    "version": 3
   },
   "file_extension": ".py",
   "mimetype": "text/x-python",
   "name": "python",
   "nbconvert_exporter": "python",
   "pygments_lexer": "ipython3",
   "version": "3.12.4"
  }
 },
 "nbformat": 4,
 "nbformat_minor": 2
}
